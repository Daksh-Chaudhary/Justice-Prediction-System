{
  "cells": [
    {
      "cell_type": "markdown",
      "metadata": {
        "id": "view-in-github",
        "colab_type": "text"
      },
      "source": [
        "<a href=\"https://colab.research.google.com/github/pathakharsh123/Justice-Prediction-System/blob/master/AI_powered_justice_prediction_system.ipynb\" target=\"_parent\"><img src=\"https://colab.research.google.com/assets/colab-badge.svg\" alt=\"Open In Colab\"/></a>"
      ]
    },
    {
      "cell_type": "markdown",
      "metadata": {
        "id": "0ecd86e2"
      },
      "source": [
        "## Imports"
      ],
      "id": "0ecd86e2"
    },
    {
      "cell_type": "code",
      "execution_count": null,
      "metadata": {
        "colab": {
          "base_uri": "https://localhost:8080/"
        },
        "id": "OIohxF_4s08Z",
        "outputId": "154a5da3-ff3f-45c4-acdf-67ae202273b0"
      },
      "outputs": [
        {
          "name": "stdout",
          "output_type": "stream",
          "text": [
            "Mounted at /content/drive\n"
          ]
        }
      ],
      "source": [
        "from google.colab import drive\n",
        "drive.mount('/content/drive')"
      ],
      "id": "OIohxF_4s08Z"
    },
    {
      "cell_type": "code",
      "execution_count": null,
      "metadata": {
        "colab": {
          "base_uri": "https://localhost:8080/"
        },
        "id": "c4d84fc5",
        "outputId": "f9bfd577-5872-4e80-981a-d40d330a32a6"
      },
      "outputs": [
        {
          "name": "stdout",
          "output_type": "stream",
          "text": [
            "Requirement already satisfied: pandas in /usr/local/lib/python3.10/dist-packages (1.5.3)\n",
            "Requirement already satisfied: python-dateutil>=2.8.1 in /usr/local/lib/python3.10/dist-packages (from pandas) (2.8.2)\n",
            "Requirement already satisfied: pytz>=2020.1 in /usr/local/lib/python3.10/dist-packages (from pandas) (2023.4)\n",
            "Requirement already satisfied: numpy>=1.21.0 in /usr/local/lib/python3.10/dist-packages (from pandas) (1.23.5)\n",
            "Requirement already satisfied: six>=1.5 in /usr/local/lib/python3.10/dist-packages (from python-dateutil>=2.8.1->pandas) (1.16.0)\n",
            "Requirement already satisfied: numpy in /usr/local/lib/python3.10/dist-packages (1.23.5)\n",
            "Requirement already satisfied: scikit-learn in /usr/local/lib/python3.10/dist-packages (1.2.2)\n",
            "Requirement already satisfied: numpy>=1.17.3 in /usr/local/lib/python3.10/dist-packages (from scikit-learn) (1.23.5)\n",
            "Requirement already satisfied: scipy>=1.3.2 in /usr/local/lib/python3.10/dist-packages (from scikit-learn) (1.11.4)\n",
            "Requirement already satisfied: joblib>=1.1.1 in /usr/local/lib/python3.10/dist-packages (from scikit-learn) (1.3.2)\n",
            "Requirement already satisfied: threadpoolctl>=2.0.0 in /usr/local/lib/python3.10/dist-packages (from scikit-learn) (3.2.0)\n"
          ]
        }
      ],
      "source": [
        "!pip install pandas\n",
        "!pip install numpy\n",
        "!pip install scikit-learn\n",
        "\n",
        "import pandas as pd\n",
        "import numpy as np\n",
        "\n",
        "from sklearn.model_selection import train_test_split\n",
        "from sklearn.metrics import classification_report\n",
        "from sklearn.feature_extraction.text import TfidfVectorizer\n",
        "\n",
        "from sklearn.neural_network import MLPClassifier\n",
        "from sklearn.linear_model import Perceptron\n",
        "from sklearn.svm import LinearSVC\n",
        "from sklearn.linear_model import LogisticRegression\n",
        "from sklearn.naive_bayes import MultinomialNB\n",
        "from sklearn.neighbors import KNeighborsClassifier\n",
        "from sklearn.ensemble import VotingClassifier\n",
        "from sklearn.calibration import CalibratedClassifierCV\n",
        "\n",
        "# Just for visuals\n",
        "pd.set_option('display.max_colwidth', None)"
      ],
      "id": "c4d84fc5"
    },
    {
      "cell_type": "markdown",
      "metadata": {
        "id": "17342c68"
      },
      "source": [
        "# 1. Dataset Preparation"
      ],
      "id": "17342c68"
    },
    {
      "cell_type": "markdown",
      "metadata": {
        "id": "d815ec89"
      },
      "source": [
        "## Load Pre-processed Dataset"
      ],
      "id": "d815ec89"
    },
    {
      "cell_type": "code",
      "execution_count": null,
      "metadata": {
        "colab": {
          "base_uri": "https://localhost:8080/"
        },
        "id": "74897779",
        "outputId": "a1448dce-f915-4551-b4e8-2338996bccea",
        "scrolled": false
      },
      "outputs": [
        {
          "name": "stdout",
          "output_type": "stream",
          "text": [
            "There are 3464 cases.\n"
          ]
        }
      ],
      "source": [
        "df = pd.read_pickle('/content/drive/MyDrive/Colab Notebooks/gsc/Final_dataset.pkl')\n",
        "df.rename(columns={'Facts': 'facts'}, inplace=True)\n",
        "df.drop(columns=['index'], inplace=True)\n",
        "df.reset_index(inplace=True)\n",
        "\n",
        "print(f'There are {len(df)} cases.')"
      ],
      "id": "74897779"
    },
    {
      "cell_type": "code",
      "execution_count": null,
      "metadata": {
        "id": "54de1f5e"
      },
      "outputs": [],
      "source": [
        "# Create a mirrored case for each case, where the parties are swapped to prevent favoring first_party\n",
        "df_list = df.values.tolist()\n",
        "result = []\n",
        "for row in df_list:\n",
        "    result.append(row[1:])\n",
        "    mirrored_row = row.copy()\n",
        "    #  first_party is at index=4, second=5, winner_index=7\n",
        "    mirrored_row[4] = row[5]\n",
        "    mirrored_row[5] = row[4]\n",
        "    mirrored_row[7] = 1-mirrored_row[7]\n",
        "    result.append(mirrored_row[1:])\n",
        "df2 = pd.DataFrame(result)\n",
        "df2.rename(columns={\n",
        "    0: 'ID',\n",
        "    1: 'name',\n",
        "    2: 'href',\n",
        "    3: 'first_party',\n",
        "    4: 'second_party',\n",
        "    5: 'winning_party',\n",
        "    6: 'winner_index',\n",
        "    7: 'facts',\n",
        "}, inplace=True)\n",
        "df = df2\n",
        "df.reset_index(inplace=True)"
      ],
      "id": "54de1f5e"
    },
    {
      "cell_type": "code",
      "execution_count": null,
      "metadata": {
        "colab": {
          "base_uri": "https://localhost:8080/"
        },
        "id": "761f95bd",
        "outputId": "c6610de7-3851-410d-d794-c9a7c252758c"
      },
      "outputs": [
        {
          "name": "stdout",
          "output_type": "stream",
          "text": [
            "Average facts character length: 1179\n",
            "Average facts word length: 189\n"
          ]
        }
      ],
      "source": [
        "avg_char = df['facts'].apply(lambda x: len(str(x))).mean()\n",
        "print(f'Average facts character length: {avg_char:.0f}')\n",
        "\n",
        "avg_word = df['facts'].apply(lambda x: len(str(x).split())).mean()\n",
        "print(f'Average facts word length: {avg_word:.0f}')\n",
        "\n",
        "del avg_char, avg_word"
      ],
      "id": "761f95bd"
    },
    {
      "cell_type": "code",
      "execution_count": null,
      "metadata": {
        "colab": {
          "base_uri": "https://localhost:8080/",
          "height": 456
        },
        "id": "3059c8c0",
        "outputId": "0a220a4b-f189-4416-dfc5-91c8e60ee54e",
        "scrolled": true
      },
      "outputs": [
        {
          "data": {
            "text/html": [
              "\n",
              "  <div id=\"df-78ad54ba-93c7-4de3-8d81-9dc78fb97daa\" class=\"colab-df-container\">\n",
              "    <div>\n",
              "<style scoped>\n",
              "    .dataframe tbody tr th:only-of-type {\n",
              "        vertical-align: middle;\n",
              "    }\n",
              "\n",
              "    .dataframe tbody tr th {\n",
              "        vertical-align: top;\n",
              "    }\n",
              "\n",
              "    .dataframe thead th {\n",
              "        text-align: right;\n",
              "    }\n",
              "</style>\n",
              "<table border=\"1\" class=\"dataframe\">\n",
              "  <thead>\n",
              "    <tr style=\"text-align: right;\">\n",
              "      <th></th>\n",
              "      <th>index</th>\n",
              "      <th>ID</th>\n",
              "      <th>name</th>\n",
              "      <th>href</th>\n",
              "      <th>first_party</th>\n",
              "      <th>second_party</th>\n",
              "      <th>winning_party</th>\n",
              "      <th>winner_index</th>\n",
              "      <th>facts</th>\n",
              "    </tr>\n",
              "  </thead>\n",
              "  <tbody>\n",
              "    <tr>\n",
              "      <th>0</th>\n",
              "      <td>0</td>\n",
              "      <td>50606</td>\n",
              "      <td>Roe v. Wade</td>\n",
              "      <td>https://api.oyez.org/cases/1971/70-18</td>\n",
              "      <td>Jane Roe</td>\n",
              "      <td>Henry Wade</td>\n",
              "      <td>Jane Roe</td>\n",
              "      <td>0</td>\n",
              "      <td>In 1970, Jane Roe (a fictional name used in court documents to protect the plaintiff’s identity) filed a lawsuit against Henry Wade, the district attorney of Dallas County, Texas, where she resided, challenging a Texas law making abortion illegal except by a doctor’s orders to save a woman’s life. In her lawsuit, Roe alleged that the state laws were unconstitutionally vague and abridged her right of personal privacy, protected by the First, Fourth, Fifth, Ninth, and Fourteenth Amendments.</td>\n",
              "    </tr>\n",
              "    <tr>\n",
              "      <th>1</th>\n",
              "      <td>1</td>\n",
              "      <td>50606</td>\n",
              "      <td>Roe v. Wade</td>\n",
              "      <td>https://api.oyez.org/cases/1971/70-18</td>\n",
              "      <td>Henry Wade</td>\n",
              "      <td>Jane Roe</td>\n",
              "      <td>Jane Roe</td>\n",
              "      <td>1</td>\n",
              "      <td>In 1970, Jane Roe (a fictional name used in court documents to protect the plaintiff’s identity) filed a lawsuit against Henry Wade, the district attorney of Dallas County, Texas, where she resided, challenging a Texas law making abortion illegal except by a doctor’s orders to save a woman’s life. In her lawsuit, Roe alleged that the state laws were unconstitutionally vague and abridged her right of personal privacy, protected by the First, Fourth, Fifth, Ninth, and Fourteenth Amendments.</td>\n",
              "    </tr>\n",
              "    <tr>\n",
              "      <th>2</th>\n",
              "      <td>2</td>\n",
              "      <td>50613</td>\n",
              "      <td>Stanley v. Illinois</td>\n",
              "      <td>https://api.oyez.org/cases/1971/70-5014</td>\n",
              "      <td>Peter Stanley, Sr.</td>\n",
              "      <td>Illinois</td>\n",
              "      <td>Stanley</td>\n",
              "      <td>0</td>\n",
              "      <td>Joan Stanley had three children with Peter Stanley. The Stanleys never married, but lived together off and on for 18 years. When Joan died, the State of Illinois took the children. Under Illinois law, unwed fathers were presumed unfit parents regardless of their actual fitness and their children became wards of the state. Peter appealed the decision, arguing that the Illinois law violated the Equal Protection Clause of the Fourteenth Amendment because unwed mothers were not deprived of their children without a showing that they were actually unfit parents. The Illinois Supreme Court rejected Stanley’s Equal Protection claim, holding that his actual fitness as a parent was irrelevant because he and the children’s mother were unmarried.</td>\n",
              "    </tr>\n",
              "  </tbody>\n",
              "</table>\n",
              "</div>\n",
              "    <div class=\"colab-df-buttons\">\n",
              "\n",
              "  <div class=\"colab-df-container\">\n",
              "    <button class=\"colab-df-convert\" onclick=\"convertToInteractive('df-78ad54ba-93c7-4de3-8d81-9dc78fb97daa')\"\n",
              "            title=\"Convert this dataframe to an interactive table.\"\n",
              "            style=\"display:none;\">\n",
              "\n",
              "  <svg xmlns=\"http://www.w3.org/2000/svg\" height=\"24px\" viewBox=\"0 -960 960 960\">\n",
              "    <path d=\"M120-120v-720h720v720H120Zm60-500h600v-160H180v160Zm220 220h160v-160H400v160Zm0 220h160v-160H400v160ZM180-400h160v-160H180v160Zm440 0h160v-160H620v160ZM180-180h160v-160H180v160Zm440 0h160v-160H620v160Z\"/>\n",
              "  </svg>\n",
              "    </button>\n",
              "\n",
              "  <style>\n",
              "    .colab-df-container {\n",
              "      display:flex;\n",
              "      gap: 12px;\n",
              "    }\n",
              "\n",
              "    .colab-df-convert {\n",
              "      background-color: #E8F0FE;\n",
              "      border: none;\n",
              "      border-radius: 50%;\n",
              "      cursor: pointer;\n",
              "      display: none;\n",
              "      fill: #1967D2;\n",
              "      height: 32px;\n",
              "      padding: 0 0 0 0;\n",
              "      width: 32px;\n",
              "    }\n",
              "\n",
              "    .colab-df-convert:hover {\n",
              "      background-color: #E2EBFA;\n",
              "      box-shadow: 0px 1px 2px rgba(60, 64, 67, 0.3), 0px 1px 3px 1px rgba(60, 64, 67, 0.15);\n",
              "      fill: #174EA6;\n",
              "    }\n",
              "\n",
              "    .colab-df-buttons div {\n",
              "      margin-bottom: 4px;\n",
              "    }\n",
              "\n",
              "    [theme=dark] .colab-df-convert {\n",
              "      background-color: #3B4455;\n",
              "      fill: #D2E3FC;\n",
              "    }\n",
              "\n",
              "    [theme=dark] .colab-df-convert:hover {\n",
              "      background-color: #434B5C;\n",
              "      box-shadow: 0px 1px 3px 1px rgba(0, 0, 0, 0.15);\n",
              "      filter: drop-shadow(0px 1px 2px rgba(0, 0, 0, 0.3));\n",
              "      fill: #FFFFFF;\n",
              "    }\n",
              "  </style>\n",
              "\n",
              "    <script>\n",
              "      const buttonEl =\n",
              "        document.querySelector('#df-78ad54ba-93c7-4de3-8d81-9dc78fb97daa button.colab-df-convert');\n",
              "      buttonEl.style.display =\n",
              "        google.colab.kernel.accessAllowed ? 'block' : 'none';\n",
              "\n",
              "      async function convertToInteractive(key) {\n",
              "        const element = document.querySelector('#df-78ad54ba-93c7-4de3-8d81-9dc78fb97daa');\n",
              "        const dataTable =\n",
              "          await google.colab.kernel.invokeFunction('convertToInteractive',\n",
              "                                                    [key], {});\n",
              "        if (!dataTable) return;\n",
              "\n",
              "        const docLinkHtml = 'Like what you see? Visit the ' +\n",
              "          '<a target=\"_blank\" href=https://colab.research.google.com/notebooks/data_table.ipynb>data table notebook</a>'\n",
              "          + ' to learn more about interactive tables.';\n",
              "        element.innerHTML = '';\n",
              "        dataTable['output_type'] = 'display_data';\n",
              "        await google.colab.output.renderOutput(dataTable, element);\n",
              "        const docLink = document.createElement('div');\n",
              "        docLink.innerHTML = docLinkHtml;\n",
              "        element.appendChild(docLink);\n",
              "      }\n",
              "    </script>\n",
              "  </div>\n",
              "\n",
              "\n",
              "<div id=\"df-ccee797c-c5c6-4e64-b8d4-2b3092940ac4\">\n",
              "  <button class=\"colab-df-quickchart\" onclick=\"quickchart('df-ccee797c-c5c6-4e64-b8d4-2b3092940ac4')\"\n",
              "            title=\"Suggest charts\"\n",
              "            style=\"display:none;\">\n",
              "\n",
              "<svg xmlns=\"http://www.w3.org/2000/svg\" height=\"24px\"viewBox=\"0 0 24 24\"\n",
              "     width=\"24px\">\n",
              "    <g>\n",
              "        <path d=\"M19 3H5c-1.1 0-2 .9-2 2v14c0 1.1.9 2 2 2h14c1.1 0 2-.9 2-2V5c0-1.1-.9-2-2-2zM9 17H7v-7h2v7zm4 0h-2V7h2v10zm4 0h-2v-4h2v4z\"/>\n",
              "    </g>\n",
              "</svg>\n",
              "  </button>\n",
              "\n",
              "<style>\n",
              "  .colab-df-quickchart {\n",
              "      --bg-color: #E8F0FE;\n",
              "      --fill-color: #1967D2;\n",
              "      --hover-bg-color: #E2EBFA;\n",
              "      --hover-fill-color: #174EA6;\n",
              "      --disabled-fill-color: #AAA;\n",
              "      --disabled-bg-color: #DDD;\n",
              "  }\n",
              "\n",
              "  [theme=dark] .colab-df-quickchart {\n",
              "      --bg-color: #3B4455;\n",
              "      --fill-color: #D2E3FC;\n",
              "      --hover-bg-color: #434B5C;\n",
              "      --hover-fill-color: #FFFFFF;\n",
              "      --disabled-bg-color: #3B4455;\n",
              "      --disabled-fill-color: #666;\n",
              "  }\n",
              "\n",
              "  .colab-df-quickchart {\n",
              "    background-color: var(--bg-color);\n",
              "    border: none;\n",
              "    border-radius: 50%;\n",
              "    cursor: pointer;\n",
              "    display: none;\n",
              "    fill: var(--fill-color);\n",
              "    height: 32px;\n",
              "    padding: 0;\n",
              "    width: 32px;\n",
              "  }\n",
              "\n",
              "  .colab-df-quickchart:hover {\n",
              "    background-color: var(--hover-bg-color);\n",
              "    box-shadow: 0 1px 2px rgba(60, 64, 67, 0.3), 0 1px 3px 1px rgba(60, 64, 67, 0.15);\n",
              "    fill: var(--button-hover-fill-color);\n",
              "  }\n",
              "\n",
              "  .colab-df-quickchart-complete:disabled,\n",
              "  .colab-df-quickchart-complete:disabled:hover {\n",
              "    background-color: var(--disabled-bg-color);\n",
              "    fill: var(--disabled-fill-color);\n",
              "    box-shadow: none;\n",
              "  }\n",
              "\n",
              "  .colab-df-spinner {\n",
              "    border: 2px solid var(--fill-color);\n",
              "    border-color: transparent;\n",
              "    border-bottom-color: var(--fill-color);\n",
              "    animation:\n",
              "      spin 1s steps(1) infinite;\n",
              "  }\n",
              "\n",
              "  @keyframes spin {\n",
              "    0% {\n",
              "      border-color: transparent;\n",
              "      border-bottom-color: var(--fill-color);\n",
              "      border-left-color: var(--fill-color);\n",
              "    }\n",
              "    20% {\n",
              "      border-color: transparent;\n",
              "      border-left-color: var(--fill-color);\n",
              "      border-top-color: var(--fill-color);\n",
              "    }\n",
              "    30% {\n",
              "      border-color: transparent;\n",
              "      border-left-color: var(--fill-color);\n",
              "      border-top-color: var(--fill-color);\n",
              "      border-right-color: var(--fill-color);\n",
              "    }\n",
              "    40% {\n",
              "      border-color: transparent;\n",
              "      border-right-color: var(--fill-color);\n",
              "      border-top-color: var(--fill-color);\n",
              "    }\n",
              "    60% {\n",
              "      border-color: transparent;\n",
              "      border-right-color: var(--fill-color);\n",
              "    }\n",
              "    80% {\n",
              "      border-color: transparent;\n",
              "      border-right-color: var(--fill-color);\n",
              "      border-bottom-color: var(--fill-color);\n",
              "    }\n",
              "    90% {\n",
              "      border-color: transparent;\n",
              "      border-bottom-color: var(--fill-color);\n",
              "    }\n",
              "  }\n",
              "</style>\n",
              "\n",
              "  <script>\n",
              "    async function quickchart(key) {\n",
              "      const quickchartButtonEl =\n",
              "        document.querySelector('#' + key + ' button');\n",
              "      quickchartButtonEl.disabled = true;  // To prevent multiple clicks.\n",
              "      quickchartButtonEl.classList.add('colab-df-spinner');\n",
              "      try {\n",
              "        const charts = await google.colab.kernel.invokeFunction(\n",
              "            'suggestCharts', [key], {});\n",
              "      } catch (error) {\n",
              "        console.error('Error during call to suggestCharts:', error);\n",
              "      }\n",
              "      quickchartButtonEl.classList.remove('colab-df-spinner');\n",
              "      quickchartButtonEl.classList.add('colab-df-quickchart-complete');\n",
              "    }\n",
              "    (() => {\n",
              "      let quickchartButtonEl =\n",
              "        document.querySelector('#df-ccee797c-c5c6-4e64-b8d4-2b3092940ac4 button');\n",
              "      quickchartButtonEl.style.display =\n",
              "        google.colab.kernel.accessAllowed ? 'block' : 'none';\n",
              "    })();\n",
              "  </script>\n",
              "</div>\n",
              "\n",
              "    </div>\n",
              "  </div>\n"
            ],
            "text/plain": [
              "   index     ID                 name                                     href  \\\n",
              "0      0  50606          Roe v. Wade    https://api.oyez.org/cases/1971/70-18   \n",
              "1      1  50606          Roe v. Wade    https://api.oyez.org/cases/1971/70-18   \n",
              "2      2  50613  Stanley v. Illinois  https://api.oyez.org/cases/1971/70-5014   \n",
              "\n",
              "           first_party second_party winning_party  winner_index  \\\n",
              "0             Jane Roe   Henry Wade      Jane Roe             0   \n",
              "1           Henry Wade     Jane Roe      Jane Roe             1   \n",
              "2  Peter Stanley, Sr.      Illinois       Stanley             0   \n",
              "\n",
              "                                                                                                                                                                                                                                                                                                                                                                                                                                                                                                                                                                                                                                                                                                                                                                      facts  \n",
              "0                                                                                                                                                                                                                                                             In 1970, Jane Roe (a fictional name used in court documents to protect the plaintiff’s identity) filed a lawsuit against Henry Wade, the district attorney of Dallas County, Texas, where she resided, challenging a Texas law making abortion illegal except by a doctor’s orders to save a woman’s life. In her lawsuit, Roe alleged that the state laws were unconstitutionally vague and abridged her right of personal privacy, protected by the First, Fourth, Fifth, Ninth, and Fourteenth Amendments.  \n",
              "1                                                                                                                                                                                                                                                             In 1970, Jane Roe (a fictional name used in court documents to protect the plaintiff’s identity) filed a lawsuit against Henry Wade, the district attorney of Dallas County, Texas, where she resided, challenging a Texas law making abortion illegal except by a doctor’s orders to save a woman’s life. In her lawsuit, Roe alleged that the state laws were unconstitutionally vague and abridged her right of personal privacy, protected by the First, Fourth, Fifth, Ninth, and Fourteenth Amendments.  \n",
              "2  Joan Stanley had three children with Peter Stanley. The Stanleys never married, but lived together off and on for 18 years. When Joan died, the State of Illinois took the children. Under Illinois law, unwed fathers were presumed unfit parents regardless of their actual fitness and their children became wards of the state. Peter appealed the decision, arguing that the Illinois law violated the Equal Protection Clause of the Fourteenth Amendment because unwed mothers were not deprived of their children without a showing that they were actually unfit parents. The Illinois Supreme Court rejected Stanley’s Equal Protection claim, holding that his actual fitness as a parent was irrelevant because he and the children’s mother were unmarried.  "
            ]
          },
          "metadata": {},
          "output_type": "display_data"
        }
      ],
      "source": [
        "display(df.head(n=3))"
      ],
      "id": "3059c8c0"
    },
    {
      "cell_type": "code",
      "execution_count": null,
      "metadata": {
        "colab": {
          "base_uri": "https://localhost:8080/"
        },
        "id": "6578cedd",
        "outputId": "3fa7007c-83f9-4563-9115-62c96c5435c1"
      },
      "outputs": [
        {
          "name": "stdout",
          "output_type": "stream",
          "text": [
            "There are 6928 cases.\n",
            "There are 3464 rows for class 0.\n",
            "There are 3464 rows for class 1.\n"
          ]
        }
      ],
      "source": [
        "print(f'There are {len(df)} cases.')\n",
        "print(f'There are {len(df[df[\"winner_index\"]==0])} rows for class 0.')\n",
        "print(f'There are {len(df[df[\"winner_index\"]==1])} rows for class 1.')"
      ],
      "id": "6578cedd"
    },
    {
      "cell_type": "code",
      "execution_count": null,
      "metadata": {
        "colab": {
          "base_uri": "https://localhost:8080/"
        },
        "id": "f046dc86",
        "outputId": "6e9dc7f5-6a32-4abb-98e7-55ad5e3f558c"
      },
      "outputs": [
        {
          "data": {
            "text/plain": [
              "count    6928.000000\n",
              "mean     1179.302252\n",
              "std       556.295521\n",
              "min        95.000000\n",
              "25%       784.000000\n",
              "50%      1112.500000\n",
              "75%      1496.000000\n",
              "max      6108.000000\n",
              "Name: facts, dtype: float64"
            ]
          },
          "execution_count": 23,
          "metadata": {},
          "output_type": "execute_result"
        }
      ],
      "source": [
        "# Facts character stats\n",
        "df['facts'].apply(lambda x: len(str(x))).describe()"
      ],
      "id": "f046dc86"
    },
    {
      "cell_type": "code",
      "execution_count": null,
      "metadata": {
        "colab": {
          "base_uri": "https://localhost:8080/"
        },
        "id": "ac4ed6e4",
        "outputId": "b060b5c6-6a94-49ac-f6fb-386ab919dd72"
      },
      "outputs": [
        {
          "data": {
            "text/plain": [
              "count    6928.000000\n",
              "mean      188.618938\n",
              "std        91.490377\n",
              "min        13.000000\n",
              "25%       125.000000\n",
              "50%       176.000000\n",
              "75%       239.000000\n",
              "max       974.000000\n",
              "Name: facts, dtype: float64"
            ]
          },
          "execution_count": 24,
          "metadata": {},
          "output_type": "execute_result"
        }
      ],
      "source": [
        "# Facts word stats\n",
        "df['facts'].apply(lambda x: len(str(x).split())).describe()"
      ],
      "id": "ac4ed6e4"
    },
    {
      "cell_type": "markdown",
      "metadata": {
        "id": "41f4afca"
      },
      "source": [
        "# 2. AutoJudge\n",
        "Given the neutral absolute facts, predict the decision of the case."
      ],
      "id": "41f4afca"
    },
    {
      "cell_type": "code",
      "execution_count": null,
      "metadata": {
        "id": "e242ac0e"
      },
      "outputs": [],
      "source": [
        "# # Perform an 80-20 split for training and testing data\n",
        "X_train_party1_text, X_test_party1_text, \\\n",
        "X_train_party2_text, X_test_party2_text, \\\n",
        "X_train_facts_text, X_test_facts_text, \\\n",
        "y_train, y_test = train_test_split(\n",
        "    df['first_party'],\n",
        "    df['second_party'],\n",
        "    df['facts'],\n",
        "    df['winner_index'],\n",
        "    test_size=0.2,\n",
        "    stratify=df['winner_index']\n",
        ")"
      ],
      "id": "e242ac0e"
    },
    {
      "cell_type": "code",
      "execution_count": null,
      "metadata": {
        "id": "dea09964"
      },
      "outputs": [],
      "source": [
        "# TF-IDF Feature Extraction\n",
        "vectorizer = TfidfVectorizer()\n",
        "X_train_facts = vectorizer.fit_transform(X_train_facts_text)\n",
        "X_test_facts = vectorizer.transform(X_test_facts_text)\n",
        "X_train_party1 = vectorizer.transform(X_train_party1_text)\n",
        "X_test_party1 = vectorizer.transform(X_test_party1_text)\n",
        "X_train_party2 = vectorizer.transform(X_train_party2_text)\n",
        "X_test_party2 = vectorizer.transform(X_test_party2_text)\n",
        "\n",
        "X_train = np.concatenate([X_train_party1.todense(), X_train_party2.todense(), X_train_facts.todense()], axis=1)\n",
        "X_test = np.concatenate([X_test_party1.todense(), X_test_party2.todense(), X_test_facts.todense()], axis=1)\n",
        "\n",
        "del X_train_facts, X_train_party1, X_train_party2\n",
        "del X_test_facts, X_test_party1, X_test_party2"
      ],
      "id": "dea09964"
    },
    {
      "cell_type": "markdown",
      "metadata": {
        "id": "62910aba"
      },
      "source": [
        "## Perceptron"
      ],
      "id": "62910aba"
    },
    {
      "cell_type": "code",
      "execution_count": null,
      "metadata": {
        "colab": {
          "base_uri": "https://localhost:8080/"
        },
        "id": "f22519ef",
        "outputId": "7ae82698-dc67-4d6a-ebeb-09b333aa2eab",
        "scrolled": true
      },
      "outputs": [
        {
          "name": "stderr",
          "output_type": "stream",
          "text": [
            "/usr/local/lib/python3.10/dist-packages/sklearn/linear_model/_stochastic_gradient.py:702: ConvergenceWarning: Maximum number of iteration reached before convergence. Consider increasing max_iter to improve the fit.\n",
            "  warnings.warn(\n"
          ]
        },
        {
          "name": "stdout",
          "output_type": "stream",
          "text": [
            "Perceptron - Train\n",
            "               precision    recall  f1-score   support\n",
            "\n",
            "           0       0.98      0.23      0.37      2771\n",
            "           1       0.56      0.99      0.72      2771\n",
            "\n",
            "    accuracy                           0.61      5542\n",
            "   macro avg       0.77      0.61      0.55      5542\n",
            "weighted avg       0.77      0.61      0.55      5542\n",
            "\n",
            "Perceptron - Test\n",
            "               precision    recall  f1-score   support\n",
            "\n",
            "           0       0.90      0.18      0.29       693\n",
            "           1       0.54      0.98      0.70       693\n",
            "\n",
            "    accuracy                           0.58      1386\n",
            "   macro avg       0.72      0.58      0.50      1386\n",
            "weighted avg       0.72      0.58      0.50      1386\n",
            "\n"
          ]
        }
      ],
      "source": [
        "X_train = np.asarray(X_train)\n",
        "X_test = np.asarray(X_test)\n",
        "\n",
        "# Perceptron\n",
        "model_perceptron = Perceptron(\n",
        "    alpha=0.0001,\n",
        "    max_iter=5,\n",
        "    n_iter_no_change=5,\n",
        "    penalty='l1',\n",
        "    tol=1e-3,\n",
        "    validation_fraction=0.1\n",
        ")\n",
        "model_perceptron.fit(X_train, y_train)\n",
        "\n",
        "y_train_pred = model_perceptron.predict(X_train)\n",
        "y_test_pred = model_perceptron.predict(X_test)\n",
        "\n",
        "print('Perceptron - Train\\n', classification_report(y_train, y_train_pred, zero_division=0))\n",
        "print('Perceptron - Test\\n', classification_report(y_test, y_test_pred, zero_division=0))"
      ],
      "id": "f22519ef"
    },
    {
      "cell_type": "markdown",
      "metadata": {
        "id": "17d29c35"
      },
      "source": [
        "## SVM"
      ],
      "id": "17d29c35"
    },
    {
      "cell_type": "code",
      "execution_count": null,
      "metadata": {
        "colab": {
          "base_uri": "https://localhost:8080/"
        },
        "id": "a5ce4c5e",
        "outputId": "2c36e609-8090-4baa-b851-f44bf1e86f5b",
        "scrolled": true
      },
      "outputs": [
        {
          "name": "stderr",
          "output_type": "stream",
          "text": [
            "/usr/local/lib/python3.10/dist-packages/sklearn/svm/_base.py:1244: ConvergenceWarning: Liblinear failed to converge, increase the number of iterations.\n",
            "  warnings.warn(\n"
          ]
        },
        {
          "name": "stdout",
          "output_type": "stream",
          "text": [
            "SVM - Train\n",
            "               precision    recall  f1-score   support\n",
            "\n",
            "           0       0.90      0.91      0.91      2771\n",
            "           1       0.91      0.90      0.90      2771\n",
            "\n",
            "    accuracy                           0.91      5542\n",
            "   macro avg       0.91      0.91      0.91      5542\n",
            "weighted avg       0.91      0.91      0.91      5542\n",
            "\n",
            "SVM - Test\n",
            "               precision    recall  f1-score   support\n",
            "\n",
            "           0       0.61      0.63      0.62       693\n",
            "           1       0.61      0.59      0.60       693\n",
            "\n",
            "    accuracy                           0.61      1386\n",
            "   macro avg       0.61      0.61      0.61      1386\n",
            "weighted avg       0.61      0.61      0.61      1386\n",
            "\n"
          ]
        }
      ],
      "source": [
        "X_train = np.asarray(X_train)\n",
        "X_test = np.asarray(X_test)\n",
        "\n",
        "# SVM\n",
        "model_svm = LinearSVC(\n",
        "    max_iter=5,\n",
        "    C=0.1,\n",
        "    intercept_scaling=0.1,\n",
        "    loss='squared_hinge',\n",
        "    penalty='l2',\n",
        "    tol=1e-2\n",
        ")\n",
        "model_svm.fit(X_train, y_train)\n",
        "\n",
        "y_train_pred = model_svm.predict(X_train)\n",
        "y_test_pred = model_svm.predict(X_test)\n",
        "\n",
        "print('SVM - Train\\n', classification_report(y_train, y_train_pred, zero_division=0))\n",
        "print('SVM - Test\\n', classification_report(y_test, y_test_pred, zero_division=0))"
      ],
      "id": "a5ce4c5e"
    },
    {
      "cell_type": "markdown",
      "metadata": {
        "id": "a028ab17"
      },
      "source": [
        "## Logistic Regression"
      ],
      "id": "a028ab17"
    },
    {
      "cell_type": "code",
      "execution_count": null,
      "metadata": {
        "colab": {
          "base_uri": "https://localhost:8080/"
        },
        "id": "3e860a56",
        "outputId": "cab29ce0-2b23-4095-b3c5-bdc235fd16c7",
        "scrolled": false
      },
      "outputs": [
        {
          "name": "stdout",
          "output_type": "stream",
          "text": [
            "Logistic Regression - Train\n",
            "               precision    recall  f1-score   support\n",
            "\n",
            "           0       0.91      0.92      0.91      2771\n",
            "           1       0.92      0.91      0.91      2771\n",
            "\n",
            "    accuracy                           0.91      5542\n",
            "   macro avg       0.91      0.91      0.91      5542\n",
            "weighted avg       0.91      0.91      0.91      5542\n",
            "\n",
            "Logistic Regression - Test\n",
            "               precision    recall  f1-score   support\n",
            "\n",
            "           0       0.61      0.62      0.62       693\n",
            "           1       0.62      0.60      0.61       693\n",
            "\n",
            "    accuracy                           0.61      1386\n",
            "   macro avg       0.61      0.61      0.61      1386\n",
            "weighted avg       0.61      0.61      0.61      1386\n",
            "\n"
          ]
        }
      ],
      "source": [
        "# Logistic Regression\n",
        "X_train = np.asarray(X_train)\n",
        "X_test = np.asarray(X_test)\n",
        "\n",
        "model_log_reg = LogisticRegression()\n",
        "model_log_reg.fit(X_train, y_train)\n",
        "\n",
        "y_train_pred = model_log_reg.predict(X_train)\n",
        "y_test_pred = model_log_reg.predict(X_test)\n",
        "\n",
        "print('Logistic Regression - Train\\n', classification_report(y_train, y_train_pred, zero_division=0))\n",
        "print('Logistic Regression - Test\\n', classification_report(y_test, y_test_pred, zero_division=0))"
      ],
      "id": "3e860a56"
    },
    {
      "cell_type": "markdown",
      "metadata": {
        "id": "0249a2a7"
      },
      "source": [
        "## Naive Bayes"
      ],
      "id": "0249a2a7"
    },
    {
      "cell_type": "code",
      "execution_count": null,
      "metadata": {
        "colab": {
          "base_uri": "https://localhost:8080/"
        },
        "id": "4f5eb3d0",
        "outputId": "ad5ba0cf-97b7-40fb-e04b-c6638c24df56"
      },
      "outputs": [
        {
          "name": "stdout",
          "output_type": "stream",
          "text": [
            "Naive Bayes - Train\n",
            "               precision    recall  f1-score   support\n",
            "\n",
            "           0       0.85      0.85      0.85      2771\n",
            "           1       0.85      0.86      0.85      2771\n",
            "\n",
            "    accuracy                           0.85      5542\n",
            "   macro avg       0.85      0.85      0.85      5542\n",
            "weighted avg       0.85      0.85      0.85      5542\n",
            "\n",
            "Naive Bayes - Test\n",
            "               precision    recall  f1-score   support\n",
            "\n",
            "           0       0.60      0.60      0.60       693\n",
            "           1       0.60      0.61      0.60       693\n",
            "\n",
            "    accuracy                           0.60      1386\n",
            "   macro avg       0.60      0.60      0.60      1386\n",
            "weighted avg       0.60      0.60      0.60      1386\n",
            "\n"
          ]
        }
      ],
      "source": [
        "# Naive Bayes\n",
        "X_train = np.asarray(X_train)\n",
        "X_test = np.asarray(X_test)\n",
        "\n",
        "model_naive_bayes = MultinomialNB(\n",
        "    alpha=3\n",
        ")\n",
        "model_naive_bayes.fit(X_train, y_train)\n",
        "\n",
        "y_train_pred = model_naive_bayes.predict(X_train)\n",
        "y_test_pred = model_naive_bayes.predict(X_test)\n",
        "\n",
        "print('Naive Bayes - Train\\n', classification_report(y_train, y_train_pred, zero_division=0))\n",
        "print('Naive Bayes - Test\\n', classification_report(y_test, y_test_pred, zero_division=0))"
      ],
      "id": "4f5eb3d0"
    },
    {
      "cell_type": "markdown",
      "metadata": {
        "id": "5e228dfb"
      },
      "source": [
        "## Multi-layer Perceptron"
      ],
      "id": "5e228dfb"
    },
    {
      "cell_type": "code",
      "execution_count": null,
      "metadata": {
        "colab": {
          "base_uri": "https://localhost:8080/"
        },
        "id": "0306c82e",
        "outputId": "2cef20ac-f66f-40b4-e38e-6bf62d0f332b",
        "scrolled": false
      },
      "outputs": [
        {
          "name": "stderr",
          "output_type": "stream",
          "text": [
            "/usr/local/lib/python3.10/dist-packages/sklearn/neural_network/_multilayer_perceptron.py:686: ConvergenceWarning: Stochastic Optimizer: Maximum iterations (10) reached and the optimization hasn't converged yet.\n",
            "  warnings.warn(\n"
          ]
        },
        {
          "name": "stdout",
          "output_type": "stream",
          "text": [
            "MLP - Train\n",
            "               precision    recall  f1-score   support\n",
            "\n",
            "           0       0.93      0.90      0.91      2771\n",
            "           1       0.90      0.94      0.92      2771\n",
            "\n",
            "    accuracy                           0.92      5542\n",
            "   macro avg       0.92      0.92      0.92      5542\n",
            "weighted avg       0.92      0.92      0.92      5542\n",
            "\n",
            "MLP - Test\n",
            "               precision    recall  f1-score   support\n",
            "\n",
            "           0       0.65      0.61      0.63       693\n",
            "           1       0.63      0.67      0.65       693\n",
            "\n",
            "    accuracy                           0.64      1386\n",
            "   macro avg       0.64      0.64      0.64      1386\n",
            "weighted avg       0.64      0.64      0.64      1386\n",
            "\n"
          ]
        }
      ],
      "source": [
        "# MLP\n",
        "X_train = np.asarray(X_train)\n",
        "X_test = np.asarray(X_test)\n",
        "\n",
        "model_mlp = MLPClassifier(\n",
        "    early_stopping=True,\n",
        "    beta_2=0,\n",
        "    max_iter=10,\n",
        ")\n",
        "model_mlp.fit(X_train, y_train)\n",
        "\n",
        "y_train_pred = model_mlp.predict(X_train)\n",
        "y_test_pred = model_mlp.predict(X_test)\n",
        "\n",
        "print('MLP - Train\\n', classification_report(y_train, y_train_pred, zero_division=0))\n",
        "print('MLP - Test\\n', classification_report(y_test, y_test_pred, zero_division=0))"
      ],
      "id": "0306c82e"
    },
    {
      "cell_type": "markdown",
      "metadata": {
        "id": "5e675dbd"
      },
      "source": [
        "## K-Nearest Neighbors"
      ],
      "id": "5e675dbd"
    },
    {
      "cell_type": "code",
      "execution_count": null,
      "metadata": {
        "colab": {
          "base_uri": "https://localhost:8080/"
        },
        "id": "76129d75",
        "outputId": "286bc26b-91a8-4db2-ed18-f6de4c77935c"
      },
      "outputs": [
        {
          "name": "stdout",
          "output_type": "stream",
          "text": [
            "KNN - Train\n",
            "               precision    recall  f1-score   support\n",
            "\n",
            "           0       1.00      1.00      1.00      2771\n",
            "           1       1.00      1.00      1.00      2771\n",
            "\n",
            "    accuracy                           1.00      5542\n",
            "   macro avg       1.00      1.00      1.00      5542\n",
            "weighted avg       1.00      1.00      1.00      5542\n",
            "\n",
            "KNN - Test\n",
            "               precision    recall  f1-score   support\n",
            "\n",
            "           0       0.68      0.74      0.71       693\n",
            "           1       0.71      0.65      0.68       693\n",
            "\n",
            "    accuracy                           0.70      1386\n",
            "   macro avg       0.70      0.70      0.69      1386\n",
            "weighted avg       0.70      0.70      0.69      1386\n",
            "\n"
          ]
        }
      ],
      "source": [
        "# KNN\n",
        "X_train = np.asarray(X_train)\n",
        "X_test = np.asarray(X_test)\n",
        "\n",
        "model_knn = KNeighborsClassifier(n_neighbors=3, weights='distance')\n",
        "model_knn.fit(X_train, y_train)\n",
        "\n",
        "y_train_pred = model_knn.predict(X_train)\n",
        "y_test_pred = model_knn.predict(X_test)\n",
        "\n",
        "print('KNN - Train\\n', classification_report(y_train, y_train_pred, zero_division=0))\n",
        "print('KNN - Test\\n', classification_report(y_test, y_test_pred, zero_division=0))"
      ],
      "id": "76129d75"
    },
    {
      "cell_type": "markdown",
      "metadata": {
        "id": "2005698f"
      },
      "source": [
        "## Calibrated Classifier"
      ],
      "id": "2005698f"
    },
    {
      "cell_type": "code",
      "execution_count": null,
      "metadata": {
        "colab": {
          "base_uri": "https://localhost:8080/"
        },
        "id": "3418ebd5",
        "outputId": "d234d9e1-785d-4fb8-df28-49aa3fc23b8e"
      },
      "outputs": [
        {
          "name": "stdout",
          "output_type": "stream",
          "text": [
            "Calibrated Classifier - Train\n",
            "               precision    recall  f1-score   support\n",
            "\n",
            "           0       0.94      0.95      0.94      2771\n",
            "           1       0.95      0.94      0.94      2771\n",
            "\n",
            "    accuracy                           0.94      5542\n",
            "   macro avg       0.94      0.94      0.94      5542\n",
            "weighted avg       0.94      0.94      0.94      5542\n",
            "\n",
            "Calibrated Classifier - Test\n",
            "               precision    recall  f1-score   support\n",
            "\n",
            "           0       0.61      0.65      0.63       693\n",
            "           1       0.63      0.59      0.61       693\n",
            "\n",
            "    accuracy                           0.62      1386\n",
            "   macro avg       0.62      0.62      0.62      1386\n",
            "weighted avg       0.62      0.62      0.62      1386\n",
            "\n"
          ]
        }
      ],
      "source": [
        "# Calibrated Classifier\n",
        "X_train = np.asarray(X_train)\n",
        "X_test = np.asarray(X_test)\n",
        "\n",
        "model_calibrated_classifier = CalibratedClassifierCV(\n",
        "    method='isotonic'\n",
        ")\n",
        "model_calibrated_classifier.fit(X_train, y_train)\n",
        "\n",
        "y_train_pred = model_calibrated_classifier.predict(X_train)\n",
        "y_test_pred = model_calibrated_classifier.predict(X_test)\n",
        "\n",
        "print('Calibrated Classifier - Train\\n', classification_report(y_train, y_train_pred, zero_division=0))\n",
        "print('Calibrated Classifier - Test\\n', classification_report(y_test, y_test_pred, zero_division=0))"
      ],
      "id": "3418ebd5"
    },
    {
      "cell_type": "markdown",
      "metadata": {
        "id": "dd3da5ba"
      },
      "source": [
        "## Create Ensemble"
      ],
      "id": "dd3da5ba"
    },
    {
      "cell_type": "code",
      "execution_count": null,
      "metadata": {
        "id": "bc8cf6ff"
      },
      "outputs": [],
      "source": [
        "models = []\n",
        "models.append(('perceptron', model_perceptron))\n",
        "models.append(('svm', model_svm))\n",
        "models.append(('logistic_regression', model_log_reg))\n",
        "models.append(('naive_bayes', model_naive_bayes))\n",
        "models.append(('multi_layer_perceptron', model_mlp))\n",
        "models.append(('k_nearest_neighbors', model_knn))\n",
        "models.append(('calibrated_classifier', model_calibrated_classifier))"
      ],
      "id": "bc8cf6ff"
    },
    {
      "cell_type": "code",
      "execution_count": null,
      "metadata": {
        "colab": {
          "background_save": true,
          "base_uri": "https://localhost:8080/"
        },
        "id": "20ce7b4d",
        "outputId": "1973c450-89a2-44e2-9b2c-9d9d4065e574"
      },
      "outputs": [
        {
          "name": "stderr",
          "output_type": "stream",
          "text": [
            "/usr/local/lib/python3.10/dist-packages/sklearn/linear_model/_stochastic_gradient.py:702: ConvergenceWarning: Maximum number of iteration reached before convergence. Consider increasing max_iter to improve the fit.\n",
            "  warnings.warn(\n",
            "/usr/local/lib/python3.10/dist-packages/sklearn/svm/_base.py:1244: ConvergenceWarning: Liblinear failed to converge, increase the number of iterations.\n",
            "  warnings.warn(\n",
            "/usr/local/lib/python3.10/dist-packages/sklearn/neural_network/_multilayer_perceptron.py:686: ConvergenceWarning: Stochastic Optimizer: Maximum iterations (10) reached and the optimization hasn't converged yet.\n",
            "  warnings.warn(\n"
          ]
        },
        {
          "name": "stdout",
          "output_type": "stream",
          "text": [
            "Ensemble - Train\n",
            "               precision    recall  f1-score   support\n",
            "\n",
            "           0       0.93      0.92      0.92      2771\n",
            "           1       0.92      0.93      0.93      2771\n",
            "\n",
            "    accuracy                           0.93      5542\n",
            "   macro avg       0.93      0.93      0.93      5542\n",
            "weighted avg       0.93      0.93      0.93      5542\n",
            "\n",
            "Ensemble - Test\n",
            "               precision    recall  f1-score   support\n",
            "\n",
            "           0       0.62      0.62      0.62       693\n",
            "           1       0.62      0.61      0.62       693\n",
            "\n",
            "    accuracy                           0.62      1386\n",
            "   macro avg       0.62      0.62      0.62      1386\n",
            "weighted avg       0.62      0.62      0.62      1386\n",
            "\n"
          ]
        }
      ],
      "source": [
        "# Ensemble\n",
        "X_train = np.asarray(X_train)\n",
        "X_test = np.asarray(X_test)\n",
        "\n",
        "ensemble = VotingClassifier(models, voting='hard')\n",
        "ensemble.fit(X_train, y_train)\n",
        "\n",
        "y_train_pred = ensemble.predict(X_train)\n",
        "y_test_pred = ensemble.predict(X_test)\n",
        "\n",
        "print('Ensemble - Train\\n', classification_report(y_train, y_train_pred, zero_division=0))\n",
        "\n",
        "print('Ensemble - Test\\n', classification_report(y_test, y_test_pred, zero_division=0))"
      ],
      "id": "20ce7b4d"
    },
    {
      "cell_type": "code",
      "execution_count": null,
      "metadata": {
        "colab": {
          "background_save": true
        },
        "id": "18cb74a6",
        "outputId": "b1902e66-5be6-4af0-a535-272885caa8e0"
      },
      "outputs": [
        {
          "name": "stdout",
          "output_type": "stream",
          "text": [
            "VotingClassifier(estimators=[('perceptron',\n",
            "                              Perceptron(max_iter=5, penalty='l1')),\n",
            "                             ('svm',\n",
            "                              LinearSVC(C=0.1, intercept_scaling=0.1,\n",
            "                                        max_iter=5, tol=0.01)),\n",
            "                             ('logistic_regression', LogisticRegression()),\n",
            "                             ('naive_bayes', MultinomialNB(alpha=3)),\n",
            "                             ('multi_layer_perceptron',\n",
            "                              MLPClassifier(beta_2=0, early_stopping=True,\n",
            "                                            max_iter=10)),\n",
            "                             ('k_nearest_neighbors',\n",
            "                              KNeighborsClassifier(n_neighbors=3,\n",
            "                                                   weights='distance')),\n",
            "                             ('calibrated_classifier',\n",
            "                              CalibratedClassifierCV(method='isotonic'))])\n"
          ]
        }
      ],
      "source": [
        "import pickle\n",
        "filename = 'ensemble_model.pkl'\n",
        "\n",
        "with open(filename, 'wb') as file:\n",
        "    pickle.dump(ensemble, file)\n",
        "print(ensemble)"
      ],
      "id": "18cb74a6"
    },
    {
      "cell_type": "markdown",
      "metadata": {
        "id": "2f38705d"
      },
      "source": [
        "## Demo"
      ],
      "id": "2f38705d"
    },
    {
      "cell_type": "code",
      "execution_count": null,
      "metadata": {
        "colab": {
          "background_save": true
        },
        "id": "4c858879"
      },
      "outputs": [],
      "source": [
        "def predict(party1, party2, facts):\n",
        "    X_party1 = vectorizer.transform([party1]).todense()\n",
        "    X_party2 = vectorizer.transform([party2]).todense()\n",
        "    X_facts = vectorizer.transform([facts]).todense()\n",
        "\n",
        "    # Convert to NumPy arrays\n",
        "    X_party1 = np.asarray(X_party1)\n",
        "    X_party2 = np.asarray(X_party2)\n",
        "    X_facts = np.asarray(X_facts)\n",
        "\n",
        "    # Concatenate along the correct axis\n",
        "    X = np.concatenate([X_party1, X_party2, X_facts], axis=1)\n",
        "    return ensemble.predict(X)[0]\n"
      ],
      "id": "4c858879"
    },
    {
      "cell_type": "code",
      "execution_count": null,
      "metadata": {
        "colab": {
          "background_save": true
        },
        "id": "cd9c6b1a",
        "outputId": "c67729de-b85b-44f6-bb33-d179a1135671"
      },
      "outputs": [
        {
          "name": "stdout",
          "output_type": "stream",
          "text": [
            "Expecting 1 but got 1\n"
          ]
        }
      ],
      "source": [
        "out = predict('Jake', 'John', 'John was assaulted by Jake at gun point. He bled severely while Jake escaped the crime scene. The entire footage was captured by a CCTV of a nearby gas station.')\n",
        "print(f'Expecting 1 but got {out}')"
      ],
      "id": "cd9c6b1a"
    },
    {
      "cell_type": "code",
      "execution_count": null,
      "metadata": {
        "colab": {
          "background_save": true
        },
        "id": "cc6f2e70",
        "outputId": "5f65c392-5131-4a98-ed1c-9197f56677fd"
      },
      "outputs": [
        {
          "name": "stdout",
          "output_type": "stream",
          "text": [
            "Expecting 0 but got 0\n"
          ]
        }
      ],
      "source": [
        "out = predict('The Florida Bar', 'Lanell Williams-Yulee', \"\"\"During her candidacy for County Court Judge in Hillsborough County, Florida, Lanell Williams-Yulee personally solicited campaign contributions. She stated that she served as the \"community Public Defender\" – although her title was \"assistant public defender\" – and inaccurately stated in the media that there was no incumbent in the judicial race for which she was running. The Florida Bar filed a complaint against Williams-Yulee and alleged that her actions during the campaign violated the rules regulating The Florida Bar. A referee was appointed who suggested that Williams-Yulee receive a public reprimand. Williams-Yulee appealed the referee's finding, and the Supreme Court of Florida held that Williams-Yulee violated bar rules for directly soliciting funds for her judicial campaign. Williams-Yulee appealed and claimed that The Florida Bar rule prohibiting a candidate from personal solicitation of funds violated the First Amendment protection of freedom of speech.\"\"\")\n",
        "print(f'Expecting 0 but got {out}')"
      ],
      "id": "cc6f2e70"
    },
    {
      "cell_type": "code",
      "execution_count": null,
      "metadata": {
        "colab": {
          "background_save": true
        },
        "id": "05458fe4",
        "scrolled": true,
        "outputId": "dfe12736-9a99-4259-fb33-492fdf119d42"
      },
      "outputs": [
        {
          "name": "stdout",
          "output_type": "stream",
          "text": [
            "Expecting 1 but got 1\n"
          ]
        }
      ],
      "source": [
        "out = predict('Rob Bonta, Attorney General of California', 'Americans for Prosperity Foundation', \"\"\"The California Attorney General’s office has a policy requiring charities to provide the state, on a confidential basis, information about their major donors, purportedly to help the state protect consumers from fraud and the misuse of their charitable contributions. Petitioner Americans for Prosperity (and the petitioner in the consolidated case, Thomas More Law Center) either failed to file or filed redacted lists of their major donors with the California Attorney General’s office, despite filing complete lists with the federal Internal Revenue Service, as required by federal law. In response to demands by the California Attorney General that they file the lists, the organizations filed a lawsuit alleging that the filing requirement unconstitutionally burdened their First Amendment right to free association by deterring individuals from financially supporting them. The organizations provided evidence that although the state is required to keep donor names private, the state’s database was vulnerable to hacking, and many donor names were repeatedly released to the public. Based in part on this finding, the district court granted both organizations’ motions for a preliminary injunction and then ultimately found for them after a trial, holding that the organizations and their donors were entitled to First Amendment protection under the principles established in the Supreme Court’s decision in NAACP v. Alabama. In so holding, the court reasoned that the government’s filing demands were not the “least restrictive means” of obtaining the information and thus did not satisfy “strict scrutiny.” A panel of the you.S. Court of Appeals for the Ninth Circuit reversed, based on its conclusion that “exacting scrutiny” rather than “strict scrutiny” was the appropriate standard, and “exacting scrutiny” requires that the government show that the disclosure and reporting requirements are justified by a compelling government interest and that the legislation is narrowly tailored to serve that interest. The Ninth Circuit denied the petition for a rehearing en banc.\"\"\")\n",
        "print(f'Expecting 1 but got {out}')"
      ],
      "id": "05458fe4"
    },
    {
      "cell_type": "code",
      "execution_count": null,
      "metadata": {
        "colab": {
          "background_save": true
        },
        "id": "7d65ebbf",
        "outputId": "374b296e-c907-4fc8-8296-6015d0dddf8d"
      },
      "outputs": [
        {
          "name": "stdout",
          "output_type": "stream",
          "text": [
            "Expecting 0 but got 1\n"
          ]
        }
      ],
      "source": [
        "out = predict('Max', 'University of Washington Law School', \"\"\"Max was denied admission to the University of Washington Law School despite test scores that were higher than some of the minorities admitted. Max then successfully asked a trial court to require the school to admit him. On appeal, the Washington Supreme Court reversed, upholding the school's decision to deny Max admission. The you.S. Supreme Court considered the case as Max was entering his final year of school.\"\"\")\n",
        "print(f'Expecting 0 but got {out}')"
      ],
      "id": "7d65ebbf"
    },
    {
      "cell_type": "markdown",
      "source": [
        "#WEB INTERFACE FOR THE ML MODEL"
      ],
      "metadata": {
        "id": "R02RpfgCp_Ty"
      },
      "id": "R02RpfgCp_Ty"
    },
    {
      "cell_type": "code",
      "execution_count": null,
      "metadata": {
        "colab": {
          "background_save": true
        },
        "id": "ybGEY-Q236GI",
        "outputId": "5977c0d6-7748-4789-c820-5f813ecf956a"
      },
      "outputs": [
        {
          "name": "stdout",
          "output_type": "stream",
          "text": [
            "Requirement already satisfied: flask-ngrok in /usr/local/lib/python3.10/dist-packages (0.0.25)\n",
            "Requirement already satisfied: Flask>=0.8 in /usr/local/lib/python3.10/dist-packages (from flask-ngrok) (2.2.5)\n",
            "Requirement already satisfied: requests in /usr/local/lib/python3.10/dist-packages (from flask-ngrok) (2.31.0)\n",
            "Requirement already satisfied: Werkzeug>=2.2.2 in /usr/local/lib/python3.10/dist-packages (from Flask>=0.8->flask-ngrok) (3.0.1)\n",
            "Requirement already satisfied: Jinja2>=3.0 in /usr/local/lib/python3.10/dist-packages (from Flask>=0.8->flask-ngrok) (3.1.3)\n",
            "Requirement already satisfied: itsdangerous>=2.0 in /usr/local/lib/python3.10/dist-packages (from Flask>=0.8->flask-ngrok) (2.1.2)\n",
            "Requirement already satisfied: click>=8.0 in /usr/local/lib/python3.10/dist-packages (from Flask>=0.8->flask-ngrok) (8.1.7)\n",
            "Requirement already satisfied: charset-normalizer<4,>=2 in /usr/local/lib/python3.10/dist-packages (from requests->flask-ngrok) (3.3.2)\n",
            "Requirement already satisfied: idna<4,>=2.5 in /usr/local/lib/python3.10/dist-packages (from requests->flask-ngrok) (3.6)\n",
            "Requirement already satisfied: urllib3<3,>=1.21.1 in /usr/local/lib/python3.10/dist-packages (from requests->flask-ngrok) (2.0.7)\n",
            "Requirement already satisfied: certifi>=2017.4.17 in /usr/local/lib/python3.10/dist-packages (from requests->flask-ngrok) (2024.2.2)\n",
            "Requirement already satisfied: MarkupSafe>=2.0 in /usr/local/lib/python3.10/dist-packages (from Jinja2>=3.0->Flask>=0.8->flask-ngrok) (2.1.5)\n",
            "Requirement already satisfied: pyngrok==4.1.1 in /usr/local/lib/python3.10/dist-packages (4.1.1)\n",
            "Requirement already satisfied: future in /usr/local/lib/python3.10/dist-packages (from pyngrok==4.1.1) (0.18.3)\n",
            "Requirement already satisfied: PyYAML in /usr/local/lib/python3.10/dist-packages (from pyngrok==4.1.1) (6.0.1)\n",
            "Authtoken saved to configuration file: /root/.ngrok2/ngrok.yml\n"
          ]
        }
      ],
      "source": [
        "!pip install flask-ngrok\n",
        "!pip install pyngrok==4.1.1\n",
        "!ngrok authtoken 2c2PyGDaCqRLn9yb6C2AXpTwvyV_492CBNYwhhK8w1aGdj3jW"
      ],
      "id": "ybGEY-Q236GI"
    },
    {
      "cell_type": "code",
      "execution_count": null,
      "metadata": {
        "colab": {
          "background_save": true
        },
        "id": "1jspga7V8Ffa",
        "outputId": "aa44a76d-713b-45fe-a358-948606f981b3"
      },
      "outputs": [
        {
          "name": "stdout",
          "output_type": "stream",
          "text": [
            "/content/drive/MyDrive/Colab Notebooks/gsc\n"
          ]
        }
      ],
      "source": [
        "%cd /content/drive/MyDrive/Colab Notebooks/gsc"
      ],
      "id": "1jspga7V8Ffa"
    },
    {
      "cell_type": "code",
      "execution_count": null,
      "metadata": {
        "colab": {
          "background_save": true
        },
        "id": "wGKOAuag9U7h"
      },
      "outputs": [],
      "source": [
        "from  flask_ngrok import run_with_ngrok\n",
        "from flask import Flask, request, render_template\n",
        "import pickle\n",
        "import numpy as np"
      ],
      "id": "wGKOAuag9U7h"
    },
    {
      "cell_type": "code",
      "execution_count": null,
      "metadata": {
        "id": "XPqF5w6G9nxA"
      },
      "outputs": [],
      "source": [
        "\n",
        "\n",
        "app = Flask(__name__)\n",
        "\n",
        "\n",
        "run_with_ngrok(app)\n",
        "\n",
        "model = pickle.load(open('trained_model.pkl', 'rb'))\n",
        "\n",
        "@app.route('/')\n",
        "def home():\n",
        "    return render_template('index.html')\n",
        "\n",
        "@app.route('/predict',methods=['POST'])\n",
        "def predict():\n",
        "    party1 = request.form['firstParty']\n",
        "    party2 = request.form['secondParty']\n",
        "    facts = request.form['caseDescription']\n",
        "\n",
        "    X_party1 = vectorizer.transform([party1]).todense()\n",
        "    X_party2 = vectorizer.transform([party2]).todense()\n",
        "    X_facts = vectorizer.transform([facts]).todense()\n",
        "\n",
        "    # Convert to NumPy arrays\n",
        "    X_party1 = np.asarray(X_party1)\n",
        "    X_party2 = np.asarray(X_party2)\n",
        "    X_facts = np.asarray(X_facts)\n",
        "\n",
        "    # Concatenate along the correct axis\n",
        "    X = np.concatenate([X_party1, X_party2, X_facts], axis=1)\n",
        "    prediction = model.predict(X)[0]\n",
        "    winner = \"First Party\" if prediction == 0 else \"Second Party\"\n",
        "    return render_template('index.html', output='Winner: {}'.format(winner))\n",
        "\n",
        "\n",
        "\n",
        "app.run()"
      ],
      "id": "XPqF5w6G9nxA"
    }
  ],
  "metadata": {
    "accelerator": "GPU",
    "colab": {
      "provenance": [],
      "include_colab_link": true
    },
    "kernelspec": {
      "display_name": "Python 3",
      "name": "python3"
    },
    "language_info": {
      "codemirror_mode": {
        "name": "ipython",
        "version": 3
      },
      "file_extension": ".py",
      "mimetype": "text/x-python",
      "name": "python",
      "nbconvert_exporter": "python",
      "pygments_lexer": "ipython3",
      "version": "3.7.9"
    }
  },
  "nbformat": 4,
  "nbformat_minor": 5
}